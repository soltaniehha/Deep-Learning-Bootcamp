{
  "cells": [
    {
      "cell_type": "markdown",
      "metadata": {
        "id": "jwJiDej-WX3K"
      },
      "source": [
        "This is a companion notebook for the book [Deep Learning with Python, Second Edition](https://www.manning.com/books/deep-learning-with-python-second-edition?a_aid=keras&a_bid=76564dff). For readability, it only contains runnable code blocks and section titles, and omits everything else in the book: text paragraphs, figures, and pseudocode.\n",
        "\n",
        "**If you want to be able to follow what's going on, I recommend reading the notebook side by side with your copy of the book.**\n",
        "\n",
        "This notebook was generated for TensorFlow 2.6."
      ]
    },
    {
      "cell_type": "markdown",
      "metadata": {
        "id": "QgFvza9PWX3N"
      },
      "source": [
        "# Deep learning for timeseries"
      ]
    },
    {
      "cell_type": "markdown",
      "metadata": {
        "id": "YUzRwSSHWX3N"
      },
      "source": [
        "## Different kinds of timeseries tasks"
      ]
    },
    {
      "cell_type": "markdown",
      "metadata": {
        "id": "rRXNeFrqWX3O"
      },
      "source": [
        "## A temperature-forecasting example"
      ]
    },
    {
      "cell_type": "code",
      "execution_count": null,
      "metadata": {
        "colab": {
          "base_uri": "https://localhost:8080/"
        },
        "id": "_Xsl5brBWX3O",
        "outputId": "e4112ada-6230-401e-e136-07630bae4a7d"
      },
      "outputs": [
        {
          "output_type": "stream",
          "name": "stdout",
          "text": [
            "--2023-03-25 01:23:12--  https://s3.amazonaws.com/keras-datasets/jena_climate_2009_2016.csv.zip\n",
            "Resolving s3.amazonaws.com (s3.amazonaws.com)... 52.217.49.190, 54.231.134.136, 52.217.46.142, ...\n",
            "Connecting to s3.amazonaws.com (s3.amazonaws.com)|52.217.49.190|:443... connected.\n",
            "HTTP request sent, awaiting response... 200 OK\n",
            "Length: 13565642 (13M) [application/zip]\n",
            "Saving to: ‘jena_climate_2009_2016.csv.zip’\n",
            "\n",
            "jena_climate_2009_2 100%[===================>]  12.94M  19.5MB/s    in 0.7s    \n",
            "\n",
            "2023-03-25 01:23:13 (19.5 MB/s) - ‘jena_climate_2009_2016.csv.zip’ saved [13565642/13565642]\n",
            "\n",
            "Archive:  jena_climate_2009_2016.csv.zip\n",
            "  inflating: jena_climate_2009_2016.csv  \n",
            "  inflating: __MACOSX/._jena_climate_2009_2016.csv  \n"
          ]
        }
      ],
      "source": [
        "!wget https://s3.amazonaws.com/keras-datasets/jena_climate_2009_2016.csv.zip\n",
        "!unzip jena_climate_2009_2016.csv.zip"
      ]
    },
    {
      "cell_type": "markdown",
      "metadata": {
        "id": "9CWeFNnhWX3O"
      },
      "source": [
        "**Inspecting the data of the Jena weather dataset**"
      ]
    },
    {
      "cell_type": "code",
      "execution_count": null,
      "metadata": {
        "colab": {
          "base_uri": "https://localhost:8080/"
        },
        "id": "9t0tEop3WX3P",
        "outputId": "899b41d7-6313-4d48-dd8e-44e0f362b094"
      },
      "outputs": [
        {
          "output_type": "stream",
          "name": "stdout",
          "text": [
            "['\"Date Time\"', '\"p (mbar)\"', '\"T (degC)\"', '\"Tpot (K)\"', '\"Tdew (degC)\"', '\"rh (%)\"', '\"VPmax (mbar)\"', '\"VPact (mbar)\"', '\"VPdef (mbar)\"', '\"sh (g/kg)\"', '\"H2OC (mmol/mol)\"', '\"rho (g/m**3)\"', '\"wv (m/s)\"', '\"max. wv (m/s)\"', '\"wd (deg)\"']\n",
            "420451\n"
          ]
        }
      ],
      "source": [
        "import os\n",
        "fname = os.path.join(\"jena_climate_2009_2016.csv\")\n",
        "\n",
        "with open(fname) as f:\n",
        "    data = f.read()\n",
        "\n",
        "lines = data.split(\"\\n\")\n",
        "header = lines[0].split(\",\")\n",
        "lines = lines[1:]\n",
        "print(header)\n",
        "print(len(lines))"
      ]
    },
    {
      "cell_type": "markdown",
      "metadata": {
        "id": "tSFvI0y2WX3P"
      },
      "source": [
        "**Parsing the data**"
      ]
    },
    {
      "cell_type": "code",
      "execution_count": null,
      "metadata": {
        "id": "tSdgpNEdWX3P"
      },
      "outputs": [],
      "source": [
        "import numpy as np\n",
        "temperature = np.zeros((len(lines),))\n",
        "raw_data = np.zeros((len(lines), len(header) - 1))\n",
        "for i, line in enumerate(lines):\n",
        "    values = [float(x) for x in line.split(\",\")[1:]]\n",
        "    temperature[i] = values[1]\n",
        "    raw_data[i, :] = values[:]"
      ]
    },
    {
      "cell_type": "markdown",
      "metadata": {
        "id": "VUH3QUDnWX3Q"
      },
      "source": [
        "**Plotting the temperature timeseries**"
      ]
    },
    {
      "cell_type": "code",
      "execution_count": null,
      "metadata": {
        "colab": {
          "base_uri": "https://localhost:8080/",
          "height": 268
        },
        "id": "9MO9U6pPWX3Q",
        "outputId": "8f943b53-1999-49b3-c1bd-e69df867ec2f"
      },
      "outputs": [
        {
          "output_type": "display_data",
          "data": {
            "text/plain": [
              "<Figure size 432x288 with 1 Axes>"
            ],
            "image/png": "[encoded data removed]"
          },
          "metadata": {
            "needs_background": "light"
          }
        }
      ],
      "source": [
        "from matplotlib import pyplot as plt\n",
        "plt.plot(range(len(temperature)), temperature);"
      ]
    },
    {
      "cell_type": "markdown",
      "metadata": {
        "id": "Y71OajuiWX3Q"
      },
      "source": [
        "**Plotting the first 10 days of the temperature timeseries**"
      ]
    },
    {
      "cell_type": "code",
      "execution_count": null,
      "metadata": {
        "colab": {
          "base_uri": "https://localhost:8080/",
          "height": 265
        },
        "id": "tRrU2AYbWX3Q",
        "outputId": "e1cc232f-96ff-4bee-c282-dceea57fed06"
      },
      "outputs": [
        {
          "output_type": "display_data",
          "data": {
            "text/plain": [
              "<Figure size 432x288 with 1 Axes>"
            ],
            "image/png": "[encoded data removed]"
          },
          "metadata": {
            "needs_background": "light"
          }
        }
      ],
      "source": [
        "plt.plot(range(1440), temperature[:1440]);"
      ]
    },
    {
      "cell_type": "markdown",
      "metadata": {
        "id": "C6OuMJfcWX3Q"
      },
      "source": [
        "**Computing the number of samples we'll use for each data split**"
      ]
    },
    {
      "cell_type": "code",
      "execution_count": null,
      "metadata": {
        "colab": {
          "base_uri": "https://localhost:8080/"
        },
        "id": "ju8fYXOfWX3Q",
        "outputId": "4495fcba-fde3-40e2-db69-408958763e82"
      },
      "outputs": [
        {
          "output_type": "stream",
          "name": "stdout",
          "text": [
            "num_train_samples: 210225\n",
            "num_val_samples: 105112\n",
            "num_test_samples: 105114\n"
          ]
        }
      ],
      "source": [
        "num_train_samples = int(0.5 * len(raw_data))\n",
        "num_val_samples = int(0.25 * len(raw_data))\n",
        "num_test_samples = len(raw_data) - num_train_samples - num_val_samples\n",
        "print(\"num_train_samples:\", num_train_samples)\n",
        "print(\"num_val_samples:\", num_val_samples)\n",
        "print(\"num_test_samples:\", num_test_samples)"
      ]
    },
    {
      "cell_type": "markdown",
      "metadata": {
        "id": "wVc7pGUeWX3R"
      },
      "source": [
        "### Preparing the data"
      ]
    },
    {
      "cell_type": "markdown",
      "metadata": {
        "id": "MExCvNBmWX3R"
      },
      "source": [
        "**Normalizing the data**"
      ]
    },
    {
      "cell_type": "code",
      "execution_count": null,
      "metadata": {
        "id": "iIwpOKmGWX3R"
      },
      "outputs": [],
      "source": [
        "mean = raw_data[:num_train_samples].mean(axis=0)\n",
        "raw_data -= mean\n",
        "std = raw_data[:num_train_samples].std(axis=0)\n",
        "raw_data /= std"
      ]
    },
    {
      "cell_type": "code",
      "execution_count": null,
      "metadata": {
        "colab": {
          "base_uri": "https://localhost:8080/"
        },
        "id": "7M-T0drAWX3R",
        "outputId": "0d4afa39-d4a3-4070-8ca7-4ed9d9323698"
      },
      "outputs": [
        {
          "output_type": "stream",
          "name": "stdout",
          "text": [
            "[0, 1, 2] 3\n",
            "[1, 2, 3] 4\n",
            "[2, 3, 4] 5\n",
            "[3, 4, 5] 6\n",
            "[4, 5, 6] 7\n"
          ]
        }
      ],
      "source": [
        "import numpy as np\n",
        "from tensorflow import keras\n",
        "int_sequence = np.arange(10)\n",
        "dummy_dataset = keras.utils.timeseries_dataset_from_array(\n",
        "    data=int_sequence[:-3],\n",
        "    targets=int_sequence[3:],\n",
        "    sequence_length=3,\n",
        "    batch_size=2,\n",
        ")\n",
        "\n",
        "for inputs, targets in dummy_dataset:\n",
        "    for i in range(inputs.shape[0]):\n",
        "        print([int(x) for x in inputs[i]], int(targets[i]))"
      ]
    },
    {
      "cell_type": "markdown",
      "metadata": {
        "id": "YDn6k2eUWX3R"
      },
      "source": [
        "**Instantiating datasets for training, validation, and testing**"
      ]
    },
    {
      "cell_type": "code",
      "execution_count": null,
      "metadata": {
        "id": "w2xjO6JhWX3R"
      },
      "outputs": [],
      "source": [
        "sampling_rate = 6\n",
        "sequence_length = 120\n",
        "delay = sampling_rate * (sequence_length + 24 - 1)\n",
        "batch_size = 256\n",
        "\n",
        "train_dataset = keras.utils.timeseries_dataset_from_array(\n",
        "    raw_data[:-delay],\n",
        "    targets=temperature[delay:],\n",
        "    sampling_rate=sampling_rate,\n",
        "    sequence_length=sequence_length,\n",
        "    shuffle=True,\n",
        "    batch_size=batch_size,\n",
        "    start_index=0,\n",
        "    end_index=num_train_samples)\n",
        "\n",
        "val_dataset = keras.utils.timeseries_dataset_from_array(\n",
        "    raw_data[:-delay],\n",
        "    targets=temperature[delay:],\n",
        "    sampling_rate=sampling_rate,\n",
        "    sequence_length=sequence_length,\n",
        "    shuffle=True,\n",
        "    batch_size=batch_size,\n",
        "    start_index=num_train_samples,\n",
        "    end_index=num_train_samples + num_val_samples)\n",
        "\n",
        "test_dataset = keras.utils.timeseries_dataset_from_array(\n",
        "    raw_data[:-delay],\n",
        "    targets=temperature[delay:],\n",
        "    sampling_rate=sampling_rate,\n",
        "    sequence_length=sequence_length,\n",
        "    shuffle=True,\n",
        "    batch_size=batch_size,\n",
        "    start_index=num_train_samples + num_val_samples)"
      ]
    },
    {
      "cell_type": "markdown",
      "metadata": {
        "id": "2Icw9Rz-WX3R"
      },
      "source": [
        "**Inspecting the output of one of our datasets**"
      ]
    },
    {
      "cell_type": "code",
      "execution_count": null,
      "metadata": {
        "colab": {
          "base_uri": "https://localhost:8080/"
        },
        "id": "OLWrdmAEWX3R",
        "outputId": "7bc7ecc8-de9d-4afa-9dc8-4ff32b17b453"
      },
      "outputs": [
        {
          "output_type": "stream",
          "name": "stdout",
          "text": [
            "samples shape: (256, 120, 14)\n",
            "targets shape: (256,)\n"
          ]
        }
      ],
      "source": [
        "for samples, targets in train_dataset:\n",
        "    print(\"samples shape:\", samples.shape)\n",
        "    print(\"targets shape:\", targets.shape)\n",
        "    break"
      ]
    },
    {
      "cell_type": "markdown",
      "metadata": {
        "id": "-SnjI9EaWX3S"
      },
      "source": [
        "### A common-sense, non-machine-learning baseline"
      ]
    },
    {
      "cell_type": "markdown",
      "metadata": {
        "id": "8AGijLMFWX3S"
      },
      "source": [
        "**Computing the common-sense baseline MAE**"
      ]
    },
    {
      "cell_type": "code",
      "execution_count": null,
      "metadata": {
        "colab": {
          "base_uri": "https://localhost:8080/"
        },
        "id": "jNFb92_aWX3S",
        "outputId": "61c9a679-7ccc-4e09-cd57-bc0c4b11250b"
      },
      "outputs": [
        {
          "output_type": "stream",
          "name": "stdout",
          "text": [
            "Validation MAE: 2.44\n",
            "Test MAE: 2.62\n"
          ]
        }
      ],
      "source": [
        "def evaluate_naive_method(dataset):\n",
        "    total_abs_err = 0.\n",
        "    samples_seen = 0\n",
        "    for samples, targets in dataset:\n",
        "        preds = samples[:, -1, 1] * std[1] + mean[1]\n",
        "        total_abs_err += np.sum(np.abs(preds - targets))\n",
        "        samples_seen += samples.shape[0]\n",
        "    return total_abs_err / samples_seen\n",
        "\n",
        "print(f\"Validation MAE: {evaluate_naive_method(val_dataset):.2f}\")\n",
        "print(f\"Test MAE: {evaluate_naive_method(test_dataset):.2f}\")"
      ]
    },
    {
      "cell_type": "markdown",
      "metadata": {
        "id": "mIg1hVi9WX3S"
      },
      "source": [
        "### Let's try a basic machine-learning model"
      ]
    },
    {
      "cell_type": "markdown",
      "metadata": {
        "id": "QAjKbI4tWX3S"
      },
      "source": [
        "**Training and evaluating a densely connected model**"
      ]
    },
    {
      "cell_type": "code",
      "execution_count": null,
      "metadata": {
        "colab": {
          "base_uri": "https://localhost:8080/"
        },
        "id": "G0nNbRLRWX3S",
        "outputId": "81da70fe-7755-4302-a2da-6ba597862c1b"
      },
      "outputs": [
        {
          "output_type": "stream",
          "name": "stdout",
          "text": [
            "Epoch 1/10\n",
            "819/819 [==============================] - 17s 14ms/step - loss: 12.8427 - mae: 2.7750 - val_loss: 11.6535 - val_mae: 2.7047\n",
            "Epoch 2/10\n",
            "819/819 [==============================] - 12s 14ms/step - loss: 9.1928 - mae: 2.3869 - val_loss: 12.2215 - val_mae: 2.7764\n",
            "Epoch 3/10\n",
            "819/819 [==============================] - 11s 14ms/step - loss: 8.5530 - mae: 2.3043 - val_loss: 11.8003 - val_mae: 2.7204\n",
            "Epoch 4/10\n",
            "819/819 [==============================] - 11s 14ms/step - loss: 8.0995 - mae: 2.2423 - val_loss: 11.1396 - val_mae: 2.6514\n",
            "Epoch 5/10\n",
            "819/819 [==============================] - 12s 14ms/step - loss: 7.7912 - mae: 2.1975 - val_loss: 10.4363 - val_mae: 2.5639\n",
            "Epoch 6/10\n",
            "819/819 [==============================] - 11s 14ms/step - loss: 7.5531 - mae: 2.1623 - val_loss: 11.6765 - val_mae: 2.7151\n",
            "Epoch 7/10\n",
            "819/819 [==============================] - 11s 14ms/step - loss: 7.3556 - mae: 2.1352 - val_loss: 15.4775 - val_mae: 3.1352\n",
            "Epoch 8/10\n",
            "819/819 [==============================] - 11s 14ms/step - loss: 7.1813 - mae: 2.1109 - val_loss: 12.0175 - val_mae: 2.7608\n",
            "Epoch 9/10\n",
            "819/819 [==============================] - 11s 14ms/step - loss: 7.0397 - mae: 2.0915 - val_loss: 10.9352 - val_mae: 2.6197\n",
            "Epoch 10/10\n",
            "819/819 [==============================] - 11s 14ms/step - loss: 6.9095 - mae: 2.0709 - val_loss: 11.6362 - val_mae: 2.6919\n",
            "405/405 [==============================] - 4s 9ms/step - loss: 11.1609 - mae: 2.6450\n",
            "Test MAE: 2.64\n"
          ]
        }
      ],
      "source": [
        "from tensorflow import keras\n",
        "from tensorflow.keras import layers\n",
        "\n",
        "inputs = keras.Input(shape=(sequence_length, raw_data.shape[-1]))\n",
        "x = layers.Flatten()(inputs)\n",
        "x = layers.Dense(16, activation=\"relu\")(x)\n",
        "outputs = layers.Dense(1)(x)\n",
        "model = keras.Model(inputs, outputs)\n",
        "\n",
        "callbacks = [\n",
        "    keras.callbacks.ModelCheckpoint(\"jena_dense.keras\",\n",
        "                                    save_best_only=True)\n",
        "]\n",
        "model.compile(optimizer=\"rmsprop\", loss=\"mse\", metrics=[\"mae\"])\n",
        "history = model.fit(train_dataset,\n",
        "                    epochs=10,\n",
        "                    validation_data=val_dataset,\n",
        "                    callbacks=callbacks)\n",
        "\n",
        "model = keras.models.load_model(\"jena_dense.keras\")\n",
        "print(f\"Test MAE: {model.evaluate(test_dataset)[1]:.2f}\")"
      ]
    },
    {
      "cell_type": "markdown",
      "metadata": {
        "id": "Q-jU-DQHWX3S"
      },
      "source": [
        "**Plotting results**"
      ]
    },
    {
      "cell_type": "code",
      "execution_count": null,
      "metadata": {
        "colab": {
          "base_uri": "https://localhost:8080/",
          "height": 281
        },
        "id": "FRJQe8YFWX3S",
        "outputId": "c5371778-0772-45d7-acdc-ec50f7858e1b"
      },
      "outputs": [
        {
          "output_type": "display_data",
          "data": {
            "text/plain": [
              "<Figure size 432x288 with 1 Axes>"
            ],
            "image/png": "[encoded data removed]"
          },
          "metadata": {
            "needs_background": "light"
          }
        }
      ],
      "source": [
        "import matplotlib.pyplot as plt\n",
        "loss = history.history[\"mae\"]\n",
        "val_loss = history.history[\"val_mae\"]\n",
        "epochs = range(1, len(loss) + 1)\n",
        "plt.figure()\n",
        "plt.plot(epochs, loss, \"bo\", label=\"Training MAE\")\n",
        "plt.plot(epochs, val_loss, \"b\", label=\"Validation MAE\")\n",
        "plt.title(\"Training and validation MAE\")\n",
        "plt.legend()\n",
        "plt.show();"
      ]
    },
    {
      "cell_type": "markdown",
      "metadata": {
        "id": "_tf_r2RsWX3S"
      },
      "source": [
        "### Let's try a 1D convolutional model"
      ]
    },
    {
      "cell_type": "code",
      "execution_count": null,
      "metadata": {
        "colab": {
          "base_uri": "https://localhost:8080/"
        },
        "id": "qiKYEF81WX3S",
        "outputId": "9ae833d4-9bb4-46ca-ba6d-670641b13693"
      },
      "outputs": [
        {
          "output_type": "stream",
          "name": "stdout",
          "text": [
            "Epoch 1/10\n",
            "819/819 [==============================] - 18s 14ms/step - loss: 22.2985 - mae: 3.6826 - val_loss: 20.7720 - val_mae: 3.5772\n",
            "Epoch 2/10\n",
            "819/819 [==============================] - 12s 14ms/step - loss: 15.4774 - mae: 3.1153 - val_loss: 15.0752 - val_mae: 3.0571\n",
            "Epoch 3/10\n",
            "819/819 [==============================] - 12s 14ms/step - loss: 14.3010 - mae: 2.9894 - val_loss: 19.7164 - val_mae: 3.5552\n",
            "Epoch 4/10\n",
            "819/819 [==============================] - 12s 14ms/step - loss: 13.5426 - mae: 2.9109 - val_loss: 15.0361 - val_mae: 3.0276\n",
            "Epoch 5/10\n",
            "819/819 [==============================] - 12s 14ms/step - loss: 12.9337 - mae: 2.8456 - val_loss: 15.1004 - val_mae: 3.0759\n",
            "Epoch 6/10\n",
            "819/819 [==============================] - 12s 14ms/step - loss: 12.3718 - mae: 2.7817 - val_loss: 13.6735 - val_mae: 2.9047\n",
            "Epoch 7/10\n",
            "819/819 [==============================] - 12s 14ms/step - loss: 11.9588 - mae: 2.7311 - val_loss: 14.8066 - val_mae: 3.0308\n",
            "Epoch 8/10\n",
            "819/819 [==============================] - 12s 14ms/step - loss: 11.5550 - mae: 2.6835 - val_loss: 15.2487 - val_mae: 3.0822\n",
            "Epoch 9/10\n",
            "819/819 [==============================] - 12s 14ms/step - loss: 11.1483 - mae: 2.6356 - val_loss: 14.7236 - val_mae: 2.9871\n",
            "Epoch 10/10\n",
            "819/819 [==============================] - 12s 14ms/step - loss: 10.8109 - mae: 2.5959 - val_loss: 17.0203 - val_mae: 3.2200\n",
            "405/405 [==============================] - 4s 9ms/step - loss: 15.5956 - mae: 3.1648\n",
            "Test MAE: 3.16\n"
          ]
        }
      ],
      "source": [
        "inputs = keras.Input(shape=(sequence_length, raw_data.shape[-1]))\n",
        "x = layers.Conv1D(8, 24, activation=\"relu\")(inputs)\n",
        "x = layers.MaxPooling1D(2)(x)\n",
        "x = layers.Conv1D(8, 12, activation=\"relu\")(x)\n",
        "x = layers.MaxPooling1D(2)(x)\n",
        "x = layers.Conv1D(8, 6, activation=\"relu\")(x)\n",
        "x = layers.GlobalAveragePooling1D()(x)\n",
        "outputs = layers.Dense(1)(x)\n",
        "model = keras.Model(inputs, outputs)\n",
        "\n",
        "callbacks = [\n",
        "    keras.callbacks.ModelCheckpoint(\"jena_conv.keras\",\n",
        "                                    save_best_only=True)\n",
        "]\n",
        "model.compile(optimizer=\"rmsprop\", loss=\"mse\", metrics=[\"mae\"])\n",
        "history = model.fit(train_dataset,\n",
        "                    epochs=10,\n",
        "                    validation_data=val_dataset,\n",
        "                    callbacks=callbacks)\n",
        "\n",
        "model = keras.models.load_model(\"jena_conv.keras\")\n",
        "print(f\"Test MAE: {model.evaluate(test_dataset)[1]:.2f}\")"
      ]
    },
    {
      "cell_type": "markdown",
      "metadata": {
        "id": "_I3n0ZQpWX3S"
      },
      "source": [
        "### A first recurrent baseline"
      ]
    },
    {
      "cell_type": "markdown",
      "metadata": {
        "id": "MUhrsqhuWX3S"
      },
      "source": [
        "**A simple LSTM-based model**"
      ]
    },
    {
      "cell_type": "code",
      "execution_count": null,
      "metadata": {
        "colab": {
          "base_uri": "https://localhost:8080/"
        },
        "id": "OgDKpUODWX3T",
        "outputId": "e542be67-ea07-484a-cb3b-ae9c6778faa0"
      },
      "outputs": [
        {
          "output_type": "stream",
          "name": "stdout",
          "text": [
            "Epoch 1/10\n",
            "819/819 [==============================] - 15s 15ms/step - loss: 46.0738 - mae: 4.9663 - val_loss: 13.5565 - val_mae: 2.7875\n",
            "Epoch 2/10\n",
            "819/819 [==============================] - 12s 15ms/step - loss: 11.5452 - mae: 2.6214 - val_loss: 9.8424 - val_mae: 2.4413\n",
            "Epoch 3/10\n",
            "819/819 [==============================] - 12s 15ms/step - loss: 10.0914 - mae: 2.4720 - val_loss: 9.8614 - val_mae: 2.4444\n",
            "Epoch 4/10\n",
            "819/819 [==============================] - 12s 15ms/step - loss: 9.6752 - mae: 2.4237 - val_loss: 9.7310 - val_mae: 2.4316\n",
            "Epoch 5/10\n",
            "819/819 [==============================] - 12s 15ms/step - loss: 9.4162 - mae: 2.3911 - val_loss: 10.2767 - val_mae: 2.4760\n",
            "Epoch 6/10\n",
            "819/819 [==============================] - 12s 15ms/step - loss: 9.1577 - mae: 2.3551 - val_loss: 10.0861 - val_mae: 2.4671\n",
            "Epoch 7/10\n",
            "819/819 [==============================] - 12s 15ms/step - loss: 8.9587 - mae: 2.3265 - val_loss: 10.3130 - val_mae: 2.4797\n",
            "Epoch 8/10\n",
            "819/819 [==============================] - 12s 15ms/step - loss: 8.7457 - mae: 2.3012 - val_loss: 10.0859 - val_mae: 2.4664\n",
            "Epoch 9/10\n",
            "819/819 [==============================] - 12s 15ms/step - loss: 8.5846 - mae: 2.2765 - val_loss: 10.2844 - val_mae: 2.4689\n",
            "Epoch 10/10\n",
            "819/819 [==============================] - 12s 15ms/step - loss: 8.4160 - mae: 2.2550 - val_loss: 10.4876 - val_mae: 2.5006\n",
            "405/405 [==============================] - 4s 9ms/step - loss: 10.5706 - mae: 2.5496\n",
            "Test MAE: 2.55\n"
          ]
        }
      ],
      "source": [
        "inputs = keras.Input(shape=(sequence_length, raw_data.shape[-1]))\n",
        "x = layers.LSTM(16)(inputs)\n",
        "outputs = layers.Dense(1)(x)\n",
        "model = keras.Model(inputs, outputs)\n",
        "\n",
        "callbacks = [\n",
        "    keras.callbacks.ModelCheckpoint(\"jena_lstm.keras\",\n",
        "                                    save_best_only=True)\n",
        "]\n",
        "model.compile(optimizer=\"rmsprop\", loss=\"mse\", metrics=[\"mae\"])\n",
        "history = model.fit(train_dataset,\n",
        "                    epochs=10,\n",
        "                    validation_data=val_dataset,\n",
        "                    callbacks=callbacks)\n",
        "\n",
        "model = keras.models.load_model(\"jena_lstm.keras\")\n",
        "print(f\"Test MAE: {model.evaluate(test_dataset)[1]:.2f}\")"
      ]
    },
    {
      "cell_type": "markdown",
      "metadata": {
        "id": "A0AoMu1SWX3T"
      },
      "source": [
        "## Understanding recurrent neural networks"
      ]
    },
    {
      "cell_type": "markdown",
      "metadata": {
        "id": "Sh3Kgzp8WX3T"
      },
      "source": [
        "**NumPy implementation of a simple RNN**"
      ]
    },
    {
      "cell_type": "code",
      "execution_count": null,
      "metadata": {
        "id": "4vqMGwaPWX3T"
      },
      "outputs": [],
      "source": [
        "import numpy as np\n",
        "timesteps = 100\n",
        "input_features = 32\n",
        "output_features = 64\n",
        "inputs = np.random.random((timesteps, input_features))\n",
        "state_t = np.zeros((output_features,))\n",
        "W = np.random.random((output_features, input_features))\n",
        "U = np.random.random((output_features, output_features))\n",
        "b = np.random.random((output_features,))\n",
        "successive_outputs = []\n",
        "for input_t in inputs:\n",
        "    output_t = np.tanh(np.dot(W, input_t) + np.dot(U, state_t) + b)\n",
        "    successive_outputs.append(output_t)\n",
        "    state_t = output_t\n",
        "final_output_sequence = np.stack(successive_outputs, axis=0)"
      ]
    },
    {
      "cell_type": "markdown",
      "metadata": {
        "id": "HYKGGWjdWX3T"
      },
      "source": [
        "## Advanced use of recurrent neural networks"
      ]
    },
    {
      "cell_type": "markdown",
      "metadata": {
        "id": "hyBAlEJmWX3U"
      },
      "source": [
        "### Using recurrent dropout to fight overfitting"
      ]
    },
    {
      "cell_type": "markdown",
      "metadata": {
        "id": "hBEcKCazWX3U"
      },
      "source": [
        "**Training and evaluating a dropout-regularized LSTM**"
      ]
    },
    {
      "cell_type": "code",
      "execution_count": null,
      "metadata": {
        "colab": {
          "base_uri": "https://localhost:8080/"
        },
        "id": "Fy0U7YaKWX3U",
        "outputId": "563da092-fb19-4c82-a215-51bab5505a20"
      },
      "outputs": [
        {
          "metadata": {
            "tags": null
          },
          "name": "stderr",
          "output_type": "stream",
          "text": [
            "WARNING:tensorflow:Layer lstm_1 will not use cuDNN kernels since it doesn't meet the criteria. It will use a generic GPU kernel as fallback when running on GPU.\n"
          ]
        },
        {
          "output_type": "stream",
          "name": "stdout",
          "text": [
            "Epoch 1/50\n",
            "819/819 [==============================] - 246s 297ms/step - loss: 29.0705 - mae: 3.9736 - val_loss: 9.9933 - val_mae: 2.4603\n",
            "Epoch 2/50\n",
            "819/819 [==============================] - 243s 297ms/step - loss: 14.9717 - mae: 3.0042 - val_loss: 9.7208 - val_mae: 2.4264\n",
            "Epoch 3/50\n",
            "819/819 [==============================] - 244s 298ms/step - loss: 13.8223 - mae: 2.8813 - val_loss: 10.4863 - val_mae: 2.5314\n",
            "Epoch 4/50\n",
            "819/819 [==============================] - 244s 298ms/step - loss: 13.0841 - mae: 2.8026 - val_loss: 9.3853 - val_mae: 2.3976\n",
            "Epoch 5/50\n",
            "819/819 [==============================] - 244s 298ms/step - loss: 12.6410 - mae: 2.7519 - val_loss: 9.7924 - val_mae: 2.4460\n",
            "Epoch 6/50\n",
            "819/819 [==============================] - 242s 295ms/step - loss: 12.2974 - mae: 2.7170 - val_loss: 9.6855 - val_mae: 2.4309\n",
            "Epoch 7/50\n",
            "819/819 [==============================] - 241s 294ms/step - loss: 11.9704 - mae: 2.6837 - val_loss: 9.6859 - val_mae: 2.4317\n",
            "Epoch 8/50\n",
            "819/819 [==============================] - 243s 296ms/step - loss: 11.7649 - mae: 2.6550 - val_loss: 9.6409 - val_mae: 2.4240\n",
            "Epoch 9/50\n",
            "819/819 [==============================] - 242s 296ms/step - loss: 11.5101 - mae: 2.6285 - val_loss: 10.9707 - val_mae: 2.5717\n",
            "Epoch 10/50\n",
            "819/819 [==============================] - 242s 295ms/step - loss: 11.3078 - mae: 2.6049 - val_loss: 9.8838 - val_mae: 2.4539\n",
            "Epoch 11/50\n",
            "819/819 [==============================] - 243s 296ms/step - loss: 11.1426 - mae: 2.5865 - val_loss: 9.8276 - val_mae: 2.4366\n",
            "Epoch 12/50\n",
            "819/819 [==============================] - 243s 297ms/step - loss: 11.0054 - mae: 2.5716 - val_loss: 10.1995 - val_mae: 2.4818\n",
            "Epoch 13/50\n",
            "819/819 [==============================] - 243s 297ms/step - loss: 10.8119 - mae: 2.5495 - val_loss: 10.1056 - val_mae: 2.4719\n",
            "Epoch 14/50\n",
            "819/819 [==============================] - 243s 297ms/step - loss: 10.7445 - mae: 2.5409 - val_loss: 10.3326 - val_mae: 2.5037\n",
            "Epoch 15/50\n",
            "819/819 [==============================] - 245s 299ms/step - loss: 10.6612 - mae: 2.5327 - val_loss: 10.3499 - val_mae: 2.4982\n",
            "Epoch 16/50\n",
            "819/819 [==============================] - 244s 298ms/step - loss: 10.5052 - mae: 2.5139 - val_loss: 9.9702 - val_mae: 2.4650\n",
            "Epoch 17/50\n",
            "819/819 [==============================] - 245s 299ms/step - loss: 10.3761 - mae: 2.5004 - val_loss: 10.1326 - val_mae: 2.4838\n",
            "Epoch 18/50\n",
            "819/819 [==============================] - 245s 299ms/step - loss: 10.2917 - mae: 2.4873 - val_loss: 10.7736 - val_mae: 2.5587\n",
            "Epoch 19/50\n",
            "819/819 [==============================] - 244s 298ms/step - loss: 10.2204 - mae: 2.4821 - val_loss: 10.5349 - val_mae: 2.5347\n",
            "Epoch 20/50\n",
            "819/819 [==============================] - 244s 298ms/step - loss: 10.1192 - mae: 2.4706 - val_loss: 10.3644 - val_mae: 2.5014\n",
            "Epoch 21/50\n",
            "819/819 [==============================] - 245s 299ms/step - loss: 10.0578 - mae: 2.4607 - val_loss: 11.1341 - val_mae: 2.5924\n",
            "Epoch 22/50\n",
            "819/819 [==============================] - 244s 298ms/step - loss: 9.9629 - mae: 2.4494 - val_loss: 10.8212 - val_mae: 2.5530\n",
            "Epoch 23/50\n",
            "819/819 [==============================] - 244s 298ms/step - loss: 10.0153 - mae: 2.4529 - val_loss: 10.3242 - val_mae: 2.5017\n",
            "Epoch 24/50\n",
            "819/819 [==============================] - 244s 298ms/step - loss: 9.8432 - mae: 2.4340 - val_loss: 11.0985 - val_mae: 2.5962\n",
            "Epoch 25/50\n",
            "819/819 [==============================] - 244s 298ms/step - loss: 9.8171 - mae: 2.4287 - val_loss: 10.5047 - val_mae: 2.5148\n",
            "Epoch 26/50\n",
            "819/819 [==============================] - 245s 298ms/step - loss: 9.7986 - mae: 2.4258 - val_loss: 10.5865 - val_mae: 2.5236\n",
            "Epoch 27/50\n",
            "819/819 [==============================] - 245s 299ms/step - loss: 9.7306 - mae: 2.4188 - val_loss: 10.7982 - val_mae: 2.5552\n",
            "Epoch 28/50\n",
            "819/819 [==============================] - 244s 298ms/step - loss: 9.6463 - mae: 2.4072 - val_loss: 10.7011 - val_mae: 2.5509\n",
            "Epoch 29/50\n",
            "819/819 [==============================] - 243s 297ms/step - loss: 9.6509 - mae: 2.4080 - val_loss: 10.7121 - val_mae: 2.5434\n",
            "Epoch 30/50\n",
            "819/819 [==============================] - 242s 296ms/step - loss: 9.5702 - mae: 2.3970 - val_loss: 11.0266 - val_mae: 2.5810\n",
            "Epoch 31/50\n",
            "819/819 [==============================] - 243s 296ms/step - loss: 9.5073 - mae: 2.3926 - val_loss: 11.5301 - val_mae: 2.6399\n",
            "Epoch 32/50\n",
            "819/819 [==============================] - 245s 299ms/step - loss: 9.4074 - mae: 2.3777 - val_loss: 11.3414 - val_mae: 2.6200\n",
            "Epoch 33/50\n",
            "819/819 [==============================] - 244s 297ms/step - loss: 9.4175 - mae: 2.3790 - val_loss: 11.4623 - val_mae: 2.6208\n",
            "Epoch 34/50\n",
            "819/819 [==============================] - 243s 296ms/step - loss: 9.3864 - mae: 2.3724 - val_loss: 10.9341 - val_mae: 2.5712\n",
            "Epoch 35/50\n",
            "819/819 [==============================] - 243s 297ms/step - loss: 9.3087 - mae: 2.3650 - val_loss: 10.9497 - val_mae: 2.5753\n",
            "Epoch 36/50\n",
            "819/819 [==============================] - 243s 297ms/step - loss: 9.2816 - mae: 2.3607 - val_loss: 11.4689 - val_mae: 2.6370\n",
            "Epoch 37/50\n",
            "819/819 [==============================] - 243s 297ms/step - loss: 9.2406 - mae: 2.3547 - val_loss: 10.8617 - val_mae: 2.5637\n",
            "Epoch 38/50\n",
            "819/819 [==============================] - 244s 298ms/step - loss: 9.2640 - mae: 2.3569 - val_loss: 11.5677 - val_mae: 2.6516\n",
            "Epoch 39/50\n",
            "819/819 [==============================] - 243s 296ms/step - loss: 9.1122 - mae: 2.3381 - val_loss: 11.1112 - val_mae: 2.5908\n",
            "Epoch 40/50\n",
            "819/819 [==============================] - 244s 297ms/step - loss: 9.1714 - mae: 2.3463 - val_loss: 11.1818 - val_mae: 2.6024\n",
            "Epoch 41/50\n",
            "819/819 [==============================] - 243s 296ms/step - loss: 9.1486 - mae: 2.3426 - val_loss: 11.5985 - val_mae: 2.6398\n",
            "Epoch 42/50\n",
            "819/819 [==============================] - 242s 295ms/step - loss: 9.0979 - mae: 2.3362 - val_loss: 11.4486 - val_mae: 2.6293\n",
            "Epoch 43/50\n",
            "819/819 [==============================] - 242s 295ms/step - loss: 9.0503 - mae: 2.3305 - val_loss: 11.5167 - val_mae: 2.6405\n",
            "Epoch 44/50\n",
            "819/819 [==============================] - 242s 296ms/step - loss: 8.9923 - mae: 2.3213 - val_loss: 11.2115 - val_mae: 2.5983\n",
            "Epoch 45/50\n",
            "819/819 [==============================] - 243s 297ms/step - loss: 8.9976 - mae: 2.3214 - val_loss: 11.3118 - val_mae: 2.6099\n",
            "Epoch 46/50\n",
            "819/819 [==============================] - 243s 297ms/step - loss: 8.9858 - mae: 2.3205 - val_loss: 11.4743 - val_mae: 2.6389\n",
            "Epoch 47/50\n",
            "811/819 [============================>.] - ETA: 2s - loss: 9.0017 - mae: 2.3207"
          ]
        }
      ],
      "source": [
        "inputs = keras.Input(shape=(sequence_length, raw_data.shape[-1]))\n",
        "x = layers.LSTM(32, recurrent_dropout=0.25)(inputs)\n",
        "x = layers.Dropout(0.5)(x)\n",
        "outputs = layers.Dense(1)(x)\n",
        "model = keras.Model(inputs, outputs)\n",
        "\n",
        "callbacks = [\n",
        "    keras.callbacks.ModelCheckpoint(\"jena_lstm_dropout.keras\",\n",
        "                                    save_best_only=True)\n",
        "]\n",
        "model.compile(optimizer=\"rmsprop\", loss=\"mse\", metrics=[\"mae\"])\n",
        "history = model.fit(train_dataset,\n",
        "                    epochs=50,\n",
        "                    validation_data=val_dataset,\n",
        "                    callbacks=callbacks)"
      ]
    },
    {
      "cell_type": "code",
      "source": [
        "import numpy as np\n",
        "from sklearn.datasets import load_iris\n",
        "from sklearn.model_selection import train_test_split\n",
        "from sklearn.linear_model import LogisticRegression\n",
        "\n",
        "# Load Iris dataset\n",
        "data = load_iris()\n",
        "X, y = data.data, data.target\n",
        "\n",
        "# Split the data into train and test sets\n",
        "X_train, X_test, y_train, y_test = train_test_split(X, y, test_size=0.3, random_state=42)\n",
        "\n",
        "# Create a Logistic Regression model\n",
        "log_reg = LogisticRegression()\n",
        "\n",
        "# Train the model\n",
        "log_reg.fit(X_train, y_train)\n",
        "\n",
        "# MISSING LINE OF CODE\n"
      ],
      "metadata": {
        "id": "XFJ959WamRad"
      },
      "execution_count": null,
      "outputs": []
    },
    {
      "cell_type": "code",
      "execution_count": null,
      "metadata": {
        "id": "NixZAYzWWX3U"
      },
      "outputs": [],
      "source": [
        "inputs = keras.Input(shape=(sequence_length, num_features))\n",
        "x = layers.LSTM(32, recurrent_dropout=0.2, unroll=True)(inputs)"
      ]
    },
    {
      "cell_type": "markdown",
      "metadata": {
        "id": "M6OK19XAWX3U"
      },
      "source": [
        "### Stacking recurrent layers"
      ]
    },
    {
      "cell_type": "markdown",
      "metadata": {
        "id": "Xqrl9SRMWX3U"
      },
      "source": [
        "**Training and evaluating a dropout-regularized, stacked GRU model**"
      ]
    },
    {
      "cell_type": "code",
      "execution_count": null,
      "metadata": {
        "colab": {
          "base_uri": "https://localhost:8080/"
        },
        "id": "R0KCWbNbWX3U",
        "outputId": "bdcf8633-d187-429b-ff43-bd7a7bee88df"
      },
      "outputs": [
        {
          "metadata": {
            "tags": null
          },
          "name": "stderr",
          "output_type": "stream",
          "text": [
            "WARNING:tensorflow:Layer gru will not use cuDNN kernels since it doesn't meet the criteria. It will use a generic GPU kernel as fallback when running on GPU.\n",
            "WARNING:tensorflow:Layer gru_1 will not use cuDNN kernels since it doesn't meet the criteria. It will use a generic GPU kernel as fallback when running on GPU.\n"
          ]
        },
        {
          "output_type": "stream",
          "name": "stdout",
          "text": [
            "Epoch 1/50\n",
            "819/819 [==============================] - 463s 560ms/step - loss: 24.7439 - mae: 3.6768 - val_loss: 9.6565 - val_mae: 2.4004\n",
            "Epoch 2/50\n",
            "819/819 [==============================] - 459s 560ms/step - loss: 13.9844 - mae: 2.8995 - val_loss: 9.9073 - val_mae: 2.4551\n",
            "Epoch 3/50\n",
            "819/819 [==============================] - 456s 557ms/step - loss: 13.2499 - mae: 2.8232 - val_loss: 8.9401 - val_mae: 2.3163\n",
            "Epoch 4/50\n",
            "819/819 [==============================] - 458s 559ms/step - loss: 12.7001 - mae: 2.7632 - val_loss: 8.8562 - val_mae: 2.3239\n",
            "Epoch 5/50\n",
            "819/819 [==============================] - 458s 559ms/step - loss: 12.2399 - mae: 2.7166 - val_loss: 8.8270 - val_mae: 2.3160\n",
            "Epoch 6/50\n",
            "819/819 [==============================] - 458s 559ms/step - loss: 11.7996 - mae: 2.6674 - val_loss: 8.7375 - val_mae: 2.2941\n",
            "Epoch 7/50\n",
            "819/819 [==============================] - 457s 558ms/step - loss: 11.4353 - mae: 2.6258 - val_loss: 8.8389 - val_mae: 2.3101\n",
            "Epoch 8/50\n",
            "819/819 [==============================] - 457s 557ms/step - loss: 11.1383 - mae: 2.5922 - val_loss: 9.0971 - val_mae: 2.3481\n",
            "Epoch 9/50\n",
            "819/819 [==============================] - 457s 558ms/step - loss: 10.7872 - mae: 2.5523 - val_loss: 9.6044 - val_mae: 2.4176\n",
            "Epoch 10/50\n",
            "819/819 [==============================] - 458s 560ms/step - loss: 10.4875 - mae: 2.5199 - val_loss: 9.2628 - val_mae: 2.3582\n",
            "Epoch 11/50\n",
            "819/819 [==============================] - 456s 557ms/step - loss: 10.2053 - mae: 2.4841 - val_loss: 9.4170 - val_mae: 2.3750\n",
            "Epoch 12/50\n",
            "819/819 [==============================] - 455s 556ms/step - loss: 9.9830 - mae: 2.4552 - val_loss: 9.6116 - val_mae: 2.4047\n",
            "Epoch 13/50\n",
            "819/819 [==============================] - 455s 555ms/step - loss: 9.7302 - mae: 2.4269 - val_loss: 9.6844 - val_mae: 2.4130\n",
            "Epoch 14/50\n",
            "819/819 [==============================] - 457s 557ms/step - loss: 9.6101 - mae: 2.4121 - val_loss: 9.9758 - val_mae: 2.4455\n",
            "Epoch 15/50\n",
            "819/819 [==============================] - 456s 557ms/step - loss: 9.3939 - mae: 2.3828 - val_loss: 10.6894 - val_mae: 2.5313\n",
            "Epoch 16/50\n",
            "819/819 [==============================] - 457s 557ms/step - loss: 9.2130 - mae: 2.3625 - val_loss: 11.1131 - val_mae: 2.5783\n",
            "Epoch 17/50\n",
            "819/819 [==============================] - 455s 555ms/step - loss: 9.1156 - mae: 2.3460 - val_loss: 10.4266 - val_mae: 2.4878\n",
            "Epoch 18/50\n",
            "819/819 [==============================] - 455s 556ms/step - loss: 8.9202 - mae: 2.3249 - val_loss: 10.9583 - val_mae: 2.5622\n",
            "Epoch 19/50\n",
            "819/819 [==============================] - 454s 555ms/step - loss: 8.8000 - mae: 2.3072 - val_loss: 10.9392 - val_mae: 2.5498\n",
            "Epoch 20/50\n",
            "819/819 [==============================] - 456s 556ms/step - loss: 8.6645 - mae: 2.2912 - val_loss: 11.0962 - val_mae: 2.5745\n",
            "Epoch 21/50\n",
            "819/819 [==============================] - 463s 565ms/step - loss: 8.6133 - mae: 2.2824 - val_loss: 11.9887 - val_mae: 2.6756\n",
            "Epoch 22/50\n",
            "819/819 [==============================] - 459s 561ms/step - loss: 8.5073 - mae: 2.2668 - val_loss: 11.1007 - val_mae: 2.5742\n",
            "Epoch 23/50\n",
            "819/819 [==============================] - 456s 556ms/step - loss: 8.3994 - mae: 2.2552 - val_loss: 11.5306 - val_mae: 2.6264\n",
            "Epoch 24/50\n",
            "819/819 [==============================] - 456s 557ms/step - loss: 8.3056 - mae: 2.2416 - val_loss: 11.6600 - val_mae: 2.6478\n",
            "Epoch 25/50\n",
            "819/819 [==============================] - 458s 559ms/step - loss: 8.2005 - mae: 2.2286 - val_loss: 11.8127 - val_mae: 2.6641\n",
            "Epoch 26/50\n",
            "819/819 [==============================] - 453s 553ms/step - loss: 8.1460 - mae: 2.2188 - val_loss: 11.8897 - val_mae: 2.6680\n",
            "Epoch 27/50\n",
            "819/819 [==============================] - 452s 552ms/step - loss: 8.0628 - mae: 2.2064 - val_loss: 12.4793 - val_mae: 2.7398\n",
            "Epoch 28/50\n",
            "819/819 [==============================] - 454s 554ms/step - loss: 7.9669 - mae: 2.1941 - val_loss: 12.3170 - val_mae: 2.7209\n",
            "Epoch 29/50\n",
            "819/819 [==============================] - 458s 559ms/step - loss: 7.8859 - mae: 2.1830 - val_loss: 12.9041 - val_mae: 2.7692\n",
            "Epoch 30/50\n",
            "819/819 [==============================] - 455s 555ms/step - loss: 7.8601 - mae: 2.1783 - val_loss: 12.2163 - val_mae: 2.6955\n",
            "Epoch 31/50\n",
            "819/819 [==============================] - 459s 560ms/step - loss: 7.7896 - mae: 2.1710 - val_loss: 12.3307 - val_mae: 2.7157\n",
            "Epoch 32/50\n",
            "819/819 [==============================] - 458s 559ms/step - loss: 7.7216 - mae: 2.1616 - val_loss: 12.7851 - val_mae: 2.7636\n",
            "Epoch 33/50\n",
            "819/819 [==============================] - 458s 559ms/step - loss: 7.6888 - mae: 2.1552 - val_loss: 12.1288 - val_mae: 2.6885\n",
            "Epoch 34/50\n",
            "819/819 [==============================] - 460s 561ms/step - loss: 7.6510 - mae: 2.1488 - val_loss: 12.5254 - val_mae: 2.7326\n",
            "Epoch 35/50\n",
            "819/819 [==============================] - 461s 562ms/step - loss: 7.6115 - mae: 2.1426 - val_loss: 12.4968 - val_mae: 2.7241\n",
            "Epoch 36/50\n",
            "819/819 [==============================] - 459s 561ms/step - loss: 7.5696 - mae: 2.1375 - val_loss: 12.6849 - val_mae: 2.7515\n",
            "Epoch 37/50\n",
            "819/819 [==============================] - 460s 561ms/step - loss: 7.5054 - mae: 2.1284 - val_loss: 12.9874 - val_mae: 2.7905\n",
            "Epoch 38/50\n",
            "819/819 [==============================] - 460s 562ms/step - loss: 7.4530 - mae: 2.1219 - val_loss: 12.9584 - val_mae: 2.7746\n",
            "Epoch 39/50\n",
            "819/819 [==============================] - 459s 560ms/step - loss: 7.4404 - mae: 2.1197 - val_loss: 12.8706 - val_mae: 2.7726\n",
            "Epoch 40/50\n",
            "819/819 [==============================] - 459s 561ms/step - loss: 7.3639 - mae: 2.1085 - val_loss: 12.7913 - val_mae: 2.7642\n",
            "Epoch 41/50\n",
            "819/819 [==============================] - 465s 567ms/step - loss: 7.3628 - mae: 2.1070 - val_loss: 12.9685 - val_mae: 2.7896\n",
            "Epoch 42/50\n",
            "819/819 [==============================] - 462s 564ms/step - loss: 7.2648 - mae: 2.0965 - val_loss: 13.5808 - val_mae: 2.8639\n",
            "Epoch 43/50\n",
            "819/819 [==============================] - 460s 561ms/step - loss: 7.2863 - mae: 2.0975 - val_loss: 13.2547 - val_mae: 2.8083\n",
            "Epoch 44/50\n",
            "819/819 [==============================] - 461s 563ms/step - loss: 7.2702 - mae: 2.0941 - val_loss: 13.1663 - val_mae: 2.7977\n",
            "Epoch 45/50\n",
            "819/819 [==============================] - 462s 563ms/step - loss: 7.2282 - mae: 2.0886 - val_loss: 13.5573 - val_mae: 2.8545\n",
            "Epoch 46/50\n",
            "819/819 [==============================] - 459s 560ms/step - loss: 7.1488 - mae: 2.0786 - val_loss: 13.5210 - val_mae: 2.8413\n",
            "Epoch 47/50\n",
            "819/819 [==============================] - 461s 563ms/step - loss: 7.1502 - mae: 2.0780 - val_loss: 13.0932 - val_mae: 2.7921\n",
            "Epoch 48/50\n",
            "819/819 [==============================] - 460s 561ms/step - loss: 7.1715 - mae: 2.0798 - val_loss: 13.7199 - val_mae: 2.8557\n",
            "Epoch 49/50\n",
            "221/819 [=======>......................] - ETA: 5:15 - loss: 7.0203 - mae: 2.0626"
          ]
        }
      ],
      "source": [
        "inputs = keras.Input(shape=(sequence_length, raw_data.shape[-1]))\n",
        "x = layers.GRU(32, recurrent_dropout=0.5, return_sequences=True)(inputs)\n",
        "x = layers.GRU(32, recurrent_dropout=0.5)(x)\n",
        "x = layers.Dropout(0.5)(x)\n",
        "outputs = layers.Dense(1)(x)\n",
        "model = keras.Model(inputs, outputs)\n",
        "\n",
        "callbacks = [\n",
        "    keras.callbacks.ModelCheckpoint(\"jena_stacked_gru_dropout.keras\",\n",
        "                                    save_best_only=True)\n",
        "]\n",
        "model.compile(optimizer=\"rmsprop\", loss=\"mse\", metrics=[\"mae\"])\n",
        "history = model.fit(train_dataset,\n",
        "                    epochs=50,\n",
        "                    validation_data=val_dataset,\n",
        "                    callbacks=callbacks)\n",
        "model = keras.models.load_model(\"jena_stacked_gru_dropout.keras\")\n",
        "print(f\"Test MAE: {model.evaluate(test_dataset)[1]:.2f}\")"
      ]
    },
    {
      "cell_type": "markdown",
      "metadata": {
        "id": "LNuaffgnWX3U"
      },
      "source": [
        "### Using bidirectional RNNs"
      ]
    },
    {
      "cell_type": "markdown",
      "metadata": {
        "id": "_xQcvp3NWX3U"
      },
      "source": [
        "**Training and evaluating a bidirectional LSTM**"
      ]
    },
    {
      "cell_type": "code",
      "execution_count": null,
      "metadata": {
        "colab": {
          "base_uri": "https://localhost:8080/"
        },
        "id": "uwDVIJBrWX3U",
        "outputId": "81d605d5-ddd9-4ebb-defa-b2c5849a9b69"
      },
      "outputs": [
        {
          "output_type": "stream",
          "name": "stdout",
          "text": [
            "Epoch 1/10\n",
            "819/819 [==============================] - 18s 19ms/step - loss: 26.6876 - mae: 3.6928 - val_loss: 10.6526 - val_mae: 2.5333\n",
            "Epoch 2/10\n",
            "819/819 [==============================] - 15s 18ms/step - loss: 9.3332 - mae: 2.3780 - val_loss: 10.0785 - val_mae: 2.4770\n",
            "Epoch 3/10\n",
            "819/819 [==============================] - 15s 18ms/step - loss: 8.5228 - mae: 2.2723 - val_loss: 9.8992 - val_mae: 2.4504\n",
            "Epoch 4/10\n",
            "819/819 [==============================] - 15s 18ms/step - loss: 7.9976 - mae: 2.2046 - val_loss: 9.8065 - val_mae: 2.4372\n",
            "Epoch 5/10\n",
            "819/819 [==============================] - 15s 18ms/step - loss: 7.5908 - mae: 2.1482 - val_loss: 9.9088 - val_mae: 2.4525\n",
            "Epoch 6/10\n",
            "819/819 [==============================] - 15s 18ms/step - loss: 7.3073 - mae: 2.1055 - val_loss: 10.2238 - val_mae: 2.4805\n",
            "Epoch 7/10\n",
            "819/819 [==============================] - 15s 18ms/step - loss: 7.0358 - mae: 2.0658 - val_loss: 10.0730 - val_mae: 2.4675\n",
            "Epoch 8/10\n",
            "819/819 [==============================] - 15s 18ms/step - loss: 6.7856 - mae: 2.0277 - val_loss: 10.4371 - val_mae: 2.5037\n",
            "Epoch 9/10\n",
            " 37/819 [>.............................] - ETA: 10s - loss: 6.4566 - mae: 1.9819"
          ]
        }
      ],
      "source": [
        "inputs = keras.Input(shape=(sequence_length, raw_data.shape[-1]))\n",
        "x = layers.Bidirectional(layers.LSTM(16))(inputs)\n",
        "outputs = layers.Dense(1)(x)\n",
        "model = keras.Model(inputs, outputs)\n",
        "\n",
        "model.compile(optimizer=\"rmsprop\", loss=\"mse\", metrics=[\"mae\"])\n",
        "history = model.fit(train_dataset,\n",
        "                    epochs=10,\n",
        "                    validation_data=val_dataset)"
      ]
    },
    {
      "cell_type": "markdown",
      "metadata": {
        "id": "WDZgDCudWX3U"
      },
      "source": [
        "### Going even further"
      ]
    },
    {
      "cell_type": "markdown",
      "metadata": {
        "id": "FwaRsuzyWX3U"
      },
      "source": [
        "## Summary"
      ]
    }
  ],
  "metadata": {
    "colab": {
      "provenance": []
    },
    "kernelspec": {
      "display_name": "Python 3",
      "language": "python",
      "name": "python3"
    },
    "language_info": {
      "codemirror_mode": {
        "name": "ipython",
        "version": 3
      },
      "file_extension": ".py",
      "mimetype": "text/x-python",
      "name": "python",
      "nbconvert_exporter": "python",
      "pygments_lexer": "ipython3",
      "version": "3.7.0"
    },
    "accelerator": "GPU",
    "gpuClass": "premium"
  },
  "nbformat": 4,
  "nbformat_minor": 0
}